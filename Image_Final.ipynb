{
 "cells": [
  {
   "cell_type": "code",
   "execution_count": 2,
   "metadata": {},
   "outputs": [
    {
     "name": "stdout",
     "output_type": "stream",
     "text": [
      " * Serving Flask app \"__main__\" (lazy loading)\n",
      " * Environment: production\n",
      "   WARNING: This is a development server. Do not use it in a production deployment.\n",
      "   Use a production WSGI server instead.\n",
      " * Debug mode: off\n"
     ]
    },
    {
     "name": "stderr",
     "output_type": "stream",
     "text": [
      " * Running on http://127.0.0.1:5000/ (Press CTRL+C to quit)\n",
      "127.0.0.1 - - [24/May/2020 13:06:36] \"\u001b[37mGET /count?lat=18.6735871&lng=73.83368879999999 HTTP/1.1\u001b[0m\" 200 -\n",
      "127.0.0.1 - - [24/May/2020 13:06:45] \"\u001b[37mGET /covidmap HTTP/1.1\u001b[0m\" 200 -\n"
     ]
    },
    {
     "name": "stdout",
     "output_type": "stream",
     "text": [
      "Done!\n"
     ]
    },
    {
     "name": "stderr",
     "output_type": "stream",
     "text": [
      "127.0.0.1 - - [24/May/2020 13:07:45] \"\u001b[37mGET / HTTP/1.1\u001b[0m\" 200 -\n",
      "127.0.0.1 - - [24/May/2020 13:07:46] \"\u001b[33mGET /favicon.ico HTTP/1.1\u001b[0m\" 404 -\n"
     ]
    },
    {
     "name": "stdout",
     "output_type": "stream",
     "text": [
      "C:\\Users\\PIYUSH\\New folder\\files\n",
      "<FileStorage: '15903058803886048465894159682694.jpg' ('image/jpeg')>\n",
      "Latitude = 18.671320972222222\n",
      "Longitude = 73.83363577777777\n",
      "2020:05:24\n",
      "13:08:15\n",
      "0987654321\n",
      "1234567890\n",
      "Borade Wadi-Jadhavwadi, Moshi, Chinchwad 412105, India\n",
      "412105\n",
      "WARNING:tensorflow:From C:\\Users\\PIYUSH\\anaconda3\\lib\\site-packages\\keras\\backend\\tensorflow_backend.py:4070: The name tf.nn.max_pool is deprecated. Please use tf.nn.max_pool2d instead.\n",
      "\n",
      "WARNING:tensorflow:From C:\\Users\\PIYUSH\\anaconda3\\lib\\site-packages\\imageai\\Detection\\keras_retinanet\\backend\\tensorflow_backend.py:22: The name tf.image.resize_images is deprecated. Please use tf.image.resize instead.\n",
      "\n",
      "tracking <tf.Variable 'Variable:0' shape=(9, 4) dtype=float32> anchors\n",
      "tracking <tf.Variable 'Variable_1:0' shape=(9, 4) dtype=float32> anchors\n",
      "tracking <tf.Variable 'Variable_2:0' shape=(9, 4) dtype=float32> anchors\n",
      "tracking <tf.Variable 'Variable_3:0' shape=(9, 4) dtype=float32> anchors\n",
      "tracking <tf.Variable 'Variable_4:0' shape=(9, 4) dtype=float32> anchors\n",
      "WARNING:tensorflow:From C:\\Users\\PIYUSH\\anaconda3\\lib\\site-packages\\imageai\\Detection\\keras_retinanet\\backend\\tensorflow_backend.py:46: add_dispatch_support.<locals>.wrapper (from tensorflow.python.ops.array_ops) is deprecated and will be removed in a future version.\n",
      "Instructions for updating:\n",
      "Use tf.where in 2.0, which has the same broadcast rule as np.where\n",
      "WARNING:tensorflow:From C:\\Users\\PIYUSH\\anaconda3\\lib\\site-packages\\keras\\backend\\tensorflow_backend.py:422: The name tf.global_variables is deprecated. Please use tf.compat.v1.global_variables instead.\n",
      "\n",
      "1\n"
     ]
    },
    {
     "name": "stderr",
     "output_type": "stream",
     "text": [
      "127.0.0.1 - - [24/May/2020 13:09:46] \"\u001b[37mPOST /image HTTP/1.1\u001b[0m\" 200 -\n",
      "127.0.0.1 - - [24/May/2020 14:18:54] \"\u001b[37mGET /count?lat=18.6751813&lng=73.8365764 HTTP/1.1\u001b[0m\" 200 -\n",
      "127.0.0.1 - - [24/May/2020 14:20:19] \"\u001b[37mGET /count?lat=18.5252822&lng=73.8306791 HTTP/1.1\u001b[0m\" 200 -\n",
      "127.0.0.1 - - [24/May/2020 14:20:32] \"\u001b[37mGET /covidmap HTTP/1.1\u001b[0m\" 200 -\n"
     ]
    },
    {
     "name": "stdout",
     "output_type": "stream",
     "text": [
      "Done!\n"
     ]
    },
    {
     "name": "stderr",
     "output_type": "stream",
     "text": [
      "127.0.0.1 - - [24/May/2020 14:20:45] \"\u001b[33mGET /favicon.ico HTTP/1.1\u001b[0m\" 404 -\n",
      "127.0.0.1 - - [24/May/2020 14:21:16] \"\u001b[37mGET / HTTP/1.1\u001b[0m\" 200 -\n",
      "127.0.0.1 - - [24/May/2020 15:14:10] \"\u001b[37mGET /covidmap HTTP/1.1\u001b[0m\" 200 -\n"
     ]
    },
    {
     "name": "stdout",
     "output_type": "stream",
     "text": [
      "Done!\n"
     ]
    },
    {
     "name": "stderr",
     "output_type": "stream",
     "text": [
      "127.0.0.1 - - [24/May/2020 15:14:16] \"\u001b[33mGET /favicon.ico HTTP/1.1\u001b[0m\" 404 -\n",
      "127.0.0.1 - - [24/May/2020 15:14:28] \"\u001b[37mGET /count?lat=18.5253074&lng=73.83066509999999 HTTP/1.1\u001b[0m\" 200 -\n",
      "127.0.0.1 - - [24/May/2020 15:14:39] \"\u001b[37mGET /covidmap HTTP/1.1\u001b[0m\" 200 -\n"
     ]
    },
    {
     "name": "stdout",
     "output_type": "stream",
     "text": [
      "Done!\n"
     ]
    },
    {
     "name": "stderr",
     "output_type": "stream",
     "text": [
      "127.0.0.1 - - [24/May/2020 15:14:44] \"\u001b[33mGET /favicon.ico HTTP/1.1\u001b[0m\" 404 -\n",
      "127.0.0.1 - - [24/May/2020 15:24:23] \"\u001b[37mGET /count?lat=18.525293200000004&lng=73.8298463 HTTP/1.1\u001b[0m\" 200 -\n",
      "127.0.0.1 - - [24/May/2020 15:24:30] \"\u001b[37mGET /covidmap HTTP/1.1\u001b[0m\" 200 -\n"
     ]
    },
    {
     "name": "stdout",
     "output_type": "stream",
     "text": [
      "Done!\n"
     ]
    },
    {
     "name": "stderr",
     "output_type": "stream",
     "text": [
      "127.0.0.1 - - [24/May/2020 15:24:56] \"\u001b[37mGET / HTTP/1.1\u001b[0m\" 200 -\n"
     ]
    }
   ],
   "source": [
    "from flask import Flask,request, render_template,jsonify\n",
    "from imageai.Detection import ObjectDetection\n",
    "from PIL import Image as pil\n",
    "from exif import Image as es\n",
    "import os\n",
    "import requests\n",
    "import re\n",
    "import time\n",
    "from openpyxl import Workbook,load_workbook\n",
    "import requests\n",
    "import shutil\n",
    "import folium\n",
    "from folium import plugins\n",
    "import pandas as pd\n",
    "import matplotlib.pyplot as plt\n",
    "import seaborn as sns\n",
    "from IPython.display import display\n",
    "import math\n",
    "import numpy as np\n",
    "import scipy.spatial as spatial\n",
    "from folium.plugins import MarkerCluster\n",
    "\n",
    "app = Flask(__name__)\n",
    "\n",
    "\n",
    "APP_ROOT = os.getcwd()\n",
    "@app.route(\"/\")\n",
    "def index():\n",
    "    return render_template(\"upload.html\")\n",
    "\n",
    "\n",
    "@app.route(\"/covidmap\",methods=['GET'])\n",
    "def covidmap():\n",
    "    raw_data = pd.read_excel(r'C:\\Users\\PIYUSH\\New folder\\zone_data.xlsx')\n",
    "    ds = raw_data\n",
    "    m = folium.Map(location=[18.5195700, 73.8553500],zoom_start = 14)\n",
    "    mc = MarkerCluster()\n",
    "    for row in raw_data.itertuples():\n",
    "        if row.patients >= 10:\n",
    "            mc.add_child(folium.Circle(location=[row.latitude,  row.longitude],popup=row.zone,radius =200,fill_color=\"#9A0C0C\",line_color='#9A0C0C',fill_opacity=0.7,fill=True))\n",
    "        elif row.patients < 10 and row.patients >= 5:\n",
    "            mc.add_child(folium.Circle(location=[row.latitude,  row.longitude],popup=row.zone,radius =200,fill_color=\"#DE3737\",line_color='#DE3737',fill_opacity=0.7,fill=True))\n",
    "        else:\n",
    "            mc.add_child(folium.Circle(location=[row.latitude,  row.longitude],popup=row.zone,radius =200,fill_color=\"#FDBEBE\",line_color='#FDBEBE',fill_opacity=0.7,fill=True))\n",
    "   \n",
    "    m.add_child(mc)\n",
    "    m.save('patients.html')\n",
    "    print(\"Done!\")\n",
    "    source = \"C:/Users/PIYUSH/New folder/patients.html\"\n",
    "    dest = \"C:/Users/PIYUSH/New folder/templates/patients.html\"\n",
    "    shutil.move(source,dest)\n",
    "    \n",
    "    return render_template(\"patients.html\")\n",
    "\n",
    "\n",
    "\n",
    "\n",
    "@app.route(\"/count\",methods=['GET'])\n",
    "def tracker():\n",
    "    \n",
    "    def dist_to_arclength(chord_length):\n",
    "        central_angle = 2*np.arcsin(chord_length/(2.0*R)) \n",
    "        arclength = R*central_angle\n",
    "        return arclength\n",
    "\n",
    "    co_ordinates = request.get_json()\n",
    "    lat2 = float(request.args.get('lat'))\n",
    "    lon2 = float(request.args.get('lng'))\n",
    "    file = 'zone_data.xlsx'\n",
    "    z_data = pd.read_excel(file,sheet_name='Sheet1')\n",
    "    R=6371\n",
    "    data = z_data\n",
    "    data=data.drop(columns=['zone','patients','Sr No'])\n",
    "    \n",
    "    phi = np.deg2rad(data['latitude'])\n",
    "    theta = np.deg2rad(data['longitude'])\n",
    "    \n",
    "    data['x'] = R * np.cos(phi) * np.cos(theta)\n",
    "    data['y'] = R * np.cos(phi) * np.sin(theta)\n",
    "    data['z'] = R * np.sin(phi)\n",
    "    \n",
    "    data=data.drop(columns=['latitude','longitude'])\n",
    "    \n",
    "    ph = np.deg2rad(lat2)\n",
    "    th = np.deg2rad(lon2)\n",
    "    \n",
    "    x=R * np.cos(ph) * np.cos(th)\n",
    "    y=R * np.cos(ph) * np.sin(th)\n",
    "    z=R * np.sin(ph)\n",
    "    \n",
    "    array = []\n",
    "    array.append(x)\n",
    "    array.append(y)\n",
    "    array.append(z)\n",
    "    \n",
    "    np_array=np.asarray(array)\n",
    "    reshaped_array = np_array.reshape(1,-1)\n",
    "    \n",
    "    tree = spatial.KDTree(data[['x', 'y','z']])\n",
    "    distance, index = tree.query(reshaped_array,k=1)\n",
    "    \n",
    "    dist =dist_to_arclength(distance)\n",
    "    \n",
    "    dist = round(dist[0],2)\n",
    "    \n",
    "    nearest_zone =z_data.loc[index[0],\"zone\"]\n",
    "    \n",
    "\n",
    "    \n",
    "    return jsonify(containment_zone = nearest_zone , distance=dist)\n",
    "    \n",
    "    \n",
    "    \n",
    "\n",
    "@app.route(\"/image\", methods=['POST'])\n",
    "def upload():\n",
    "    target = os.path.join(APP_ROOT, 'files')\n",
    "    print(target)\n",
    "\n",
    "    if not os.path.isdir(target):\n",
    "        os.mkdir(target)\n",
    "\n",
    "    for file in request.files.getlist(\"image\"):\n",
    "        print(file)\n",
    "        my_image = es(file)\n",
    "        aadhar = request.form['ad']\n",
    "        number = request.form['mo']\n",
    "        \n",
    "        long = (float(my_image.gps_longitude[0]) + float(my_image.gps_longitude[1])/60 + float(my_image.gps_longitude[2])/(60*60)) * (-1 if my_image.gps_longitude_ref in ['W', 'S'] else 1)\n",
    "        lat = (float(my_image.gps_latitude[0]) + float(my_image.gps_latitude[1])/60 + float(my_image.gps_latitude[2])/(60*60)) * (-1 if my_image.gps_latitude_ref in ['W', 'S'] else 1)\n",
    "        \n",
    "        print(\"Latitude = \"+ str(lat))\n",
    "        print(\"Longitude = \"+ str(long))\n",
    "        time = my_image.datetime.split()[1]\n",
    "        date = my_image.datetime.split()[0]\n",
    "        print(date)\n",
    "        print(time)\n",
    "        print(number)\n",
    "        print(aadhar)\n",
    "        image_name = \"img-\"+str(aadhar)+\".jpg\"\n",
    "        \n",
    "        location_request = requests.get(\"https://revgeocode.search.hereapi.com/v1/revgeocode?at={lat},{log}&apikey=hVlbuiVbXyZymQt5-BsSt1wmHpHiDtarbG5njDu_okQ\".format(lat=lat,log=long))\n",
    "        location_json = location_request.json()\n",
    "        postCode = location_json['items'][0]['address']['postalCode']\n",
    "        address = location_json['items'][0]['address']['label']\n",
    "        print(address)\n",
    "        print(postCode)\n",
    "        \n",
    "        \n",
    "        detector = ObjectDetection()\n",
    "        detector.setModelTypeAsRetinaNet()\n",
    "        detector.setModelPath( os.path.join(APP_ROOT , \"retinanet.h5\"))\n",
    "        detector.loadModel()\n",
    "        detections = detector.detectObjectsFromImage(input_image=file, output_image_path=os.path.join(APP_ROOT , \"imagenew.jpg\"), minimum_percentage_probability=30)\n",
    "        count=0\n",
    "        for i in range(len(detections)):\n",
    "            object = detections[i]['name']\n",
    "            if object == 'person':\n",
    "                count = count+1\n",
    "        print(count)\n",
    "        \n",
    "        if(count < 1):\n",
    "            return render_template(\"invalid.html\")\n",
    "        path = target+\"\\\\\"+str(postCode)\n",
    "        if not os.path.isdir(path):\n",
    "            os.mkdir(path)\n",
    "            print(path)\n",
    "        \n",
    "            \n",
    "        \n",
    "        dest = \"C:/Users/PIYUSH/New folder/files/\"+str(postCode)+\"/\"+image_name\n",
    "        save_image = pil.open(file)\n",
    "        save_image.load()\n",
    "        save_image = save_image.save(dest)\n",
    "        \n",
    "        wb=Workbook()\n",
    "        filepath=\"C:/Users/PIYUSH/New folder/image_data.xlsx\"\n",
    "        wb = load_workbook(filepath)\n",
    "        ws = wb.active\n",
    "        ws.append([image_name,aadhar,number,address,postCode,date,time])\n",
    "        wb.save(filepath)\n",
    "\n",
    "    return render_template(\"complete.html\")\n",
    "\n",
    "if __name__ == \"__main__\":\n",
    "    app.run()\n"
   ]
  },
  {
   "cell_type": "code",
   "execution_count": null,
   "metadata": {},
   "outputs": [],
   "source": []
  },
  {
   "cell_type": "code",
   "execution_count": 8,
   "metadata": {},
   "outputs": [],
   "source": [
    "\n"
   ]
  },
  {
   "cell_type": "code",
   "execution_count": null,
   "metadata": {},
   "outputs": [],
   "source": []
  },
  {
   "cell_type": "code",
   "execution_count": 3,
   "metadata": {},
   "outputs": [
    {
     "name": "stdout",
     "output_type": "stream",
     "text": [
      "C:\\Users\\PIYUSH\\New folder\\files\n"
     ]
    },
    {
     "data": {
      "text/plain": [
       "'C:\\\\Users\\\\PIYUSH\\\\New folder\\\\files'"
      ]
     },
     "execution_count": 3,
     "metadata": {},
     "output_type": "execute_result"
    }
   ],
   "source": []
  },
  {
   "cell_type": "code",
   "execution_count": 38,
   "metadata": {},
   "outputs": [
    {
     "name": "stdout",
     "output_type": "stream",
     "text": [
      "C:\\Users\\PIYUSH\\New folder\\files\n"
     ]
    }
   ],
   "source": [
    "\n"
   ]
  },
  {
   "cell_type": "code",
   "execution_count": 51,
   "metadata": {},
   "outputs": [],
   "source": []
  },
  {
   "cell_type": "code",
   "execution_count": 52,
   "metadata": {},
   "outputs": [
    {
     "name": "stdout",
     "output_type": "stream",
     "text": [
      "C:\\Users\\PIYUSH\\New folder\\files\\411016\n"
     ]
    }
   ],
   "source": [
    "\n"
   ]
  },
  {
   "cell_type": "code",
   "execution_count": 50,
   "metadata": {},
   "outputs": [
    {
     "data": {
      "text/plain": [
       "'C:\\\\Users\\\\PIYUSH\\\\New folder\\\\files'"
      ]
     },
     "execution_count": 50,
     "metadata": {},
     "output_type": "execute_result"
    }
   ],
   "source": []
  },
  {
   "cell_type": "code",
   "execution_count": null,
   "metadata": {},
   "outputs": [],
   "source": []
  },
  {
   "cell_type": "code",
   "execution_count": null,
   "metadata": {},
   "outputs": [],
   "source": []
  }
 ],
 "metadata": {
  "kernelspec": {
   "display_name": "Python 3",
   "language": "python",
   "name": "python3"
  },
  "language_info": {
   "codemirror_mode": {
    "name": "ipython",
    "version": 3
   },
   "file_extension": ".py",
   "mimetype": "text/x-python",
   "name": "python",
   "nbconvert_exporter": "python",
   "pygments_lexer": "ipython3",
   "version": "3.7.6"
  }
 },
 "nbformat": 4,
 "nbformat_minor": 4
}
